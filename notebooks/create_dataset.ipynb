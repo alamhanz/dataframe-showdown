{
 "cells": [
  {
   "cell_type": "code",
   "execution_count": 1,
   "metadata": {},
   "outputs": [],
   "source": [
    "import vaex as vx\n",
    "import gc\n",
    "import os"
   ]
  },
  {
   "cell_type": "code",
   "execution_count": 2,
   "metadata": {},
   "outputs": [],
   "source": [
    "PATH_DATA = 'O:/df-showdown-data/'\n",
    "BASE_DATA = '../base_data.csv'"
   ]
  },
  {
   "cell_type": "code",
   "execution_count": 11,
   "metadata": {},
   "outputs": [],
   "source": [
    "df_base = vx.open(BASE_DATA)\n",
    "df_base = df_base[['Order ID','Date','Status','Amount','ship-service-level']]"
   ]
  },
  {
   "cell_type": "code",
   "execution_count": 14,
   "metadata": {},
   "outputs": [
    {
     "name": "stdout",
     "output_type": "stream",
     "text": [
      "  #  Order ID             Date      Status                          Amount  ship-service-level\n",
      "  0  405-7447678-6283558  06-01-22  Shipped                            493  Expedited\n",
      "  1  407-9112200-0837114  06-03-22  Shipped                           1299  Expedited\n",
      "  2  403-0009876-8980362  05-26-22  Shipped - Delivered to Buyer       709  Standard\n",
      "  3  408-9212773-0112340  06-17-22  Shipped                           1163  Expedited\n",
      "  4  408-7179059-4859549  05-20-22  Shipped - Delivered to Buyer       382  Standard\n",
      "  5  405-3932872-9833153  04-20-22  Shipped                            788  Expedited\n",
      "  6  406-2042265-0425940  06-02-22  Shipped                            496  Expedited\n",
      "  7  171-1620511-7033951  04-22-22  Shipped                            658  Expedited\n"
     ]
    }
   ],
   "source": [
    "print(df_base.sample(8))"
   ]
  },
  {
   "cell_type": "code",
   "execution_count": 19,
   "metadata": {},
   "outputs": [
    {
     "name": "stdout",
     "output_type": "stream",
     "text": [
      "8\n",
      "1031800\n"
     ]
    }
   ],
   "source": [
    "# n_df = [int(i/0.129)+1 for i in (0.12,1,5,10,25,50,75,100,130,175)]\n",
    "# n_df = [int(i/0.129)+1 for i in (1,)]\n",
    "\n",
    "k = 1\n",
    "for n in n_df:\n",
    "    print(n)\n",
    "    list_df_temp = [df_base]*n\n",
    "    df_temp = vx.concat(list_df_temp)\n",
    "    print(df_temp.shape[0])\n",
    "    df_temp.export(PATH_DATA+'data_{}.csv'.format(k),index=False)\n",
    "    df_temp.export(PATH_DATA+'data_{}.parquet'.format(k))\n",
    "\n",
    "    del list_df_temp\n",
    "    del df_temp\n",
    "    gc.collect()\n",
    "    k+=1\n"
   ]
  },
  {
   "cell_type": "code",
   "execution_count": null,
   "metadata": {},
   "outputs": [],
   "source": []
  }
 ],
 "metadata": {
  "kernelspec": {
   "display_name": "dfs",
   "language": "python",
   "name": "dfs"
  },
  "language_info": {
   "codemirror_mode": {
    "name": "ipython",
    "version": 3
   },
   "file_extension": ".py",
   "mimetype": "text/x-python",
   "name": "python",
   "nbconvert_exporter": "python",
   "pygments_lexer": "ipython3",
   "version": "3.8.10"
  },
  "orig_nbformat": 4
 },
 "nbformat": 4,
 "nbformat_minor": 2
}
