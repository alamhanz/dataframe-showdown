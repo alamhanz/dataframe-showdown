{
 "cells": [
  {
   "cell_type": "code",
   "execution_count": 1,
   "metadata": {},
   "outputs": [],
   "source": [
    "import vaex as vx\n",
    "import gc\n",
    "import os"
   ]
  },
  {
   "cell_type": "code",
   "execution_count": 2,
   "metadata": {},
   "outputs": [],
   "source": [
    "PATH_DATA = 'O:/df-showdown-data/'\n",
    "BASE_DATA = PATH_DATA + 'base_data.csv'"
   ]
  },
  {
   "cell_type": "code",
   "execution_count": 3,
   "metadata": {},
   "outputs": [],
   "source": [
    "df_base = vx.open(BASE_DATA)\n",
    "df_base = df_base[['Order ID','Date','Status','Amount','ship-service-level']]\n",
    "df_base['Amount'] = df_base['Amount'].fillna(0.1)"
   ]
  },
  {
   "cell_type": "code",
   "execution_count": 4,
   "metadata": {},
   "outputs": [],
   "source": [
    "# df_base[df_base['Order ID']=='408-9163411-1046704']['Amount']"
   ]
  },
  {
   "cell_type": "code",
   "execution_count": 5,
   "metadata": {},
   "outputs": [
    {
     "data": {
      "text/html": [
       "<table>\n",
       "<thead>\n",
       "<tr><th>#                            </th><th>Order ID           </th><th>Date    </th><th>Status                      </th><th style=\"text-align: right;\">  Amount</th><th>ship-service-level  </th></tr>\n",
       "</thead>\n",
       "<tbody>\n",
       "<tr><td><i style='opacity: 0.6'>0</i></td><td>404-2409117-6801939</td><td>05-20-22</td><td>Shipped                     </td><td style=\"text-align: right;\">  346   </td><td>Expedited           </td></tr>\n",
       "<tr><td><i style='opacity: 0.6'>1</i></td><td>408-0336818-2998712</td><td>05-06-22</td><td>Shipped                     </td><td style=\"text-align: right;\"> 1108   </td><td>Expedited           </td></tr>\n",
       "<tr><td><i style='opacity: 0.6'>2</i></td><td>405-2928828-3497149</td><td>05-06-22</td><td>Shipped                     </td><td style=\"text-align: right;\">  759   </td><td>Expedited           </td></tr>\n",
       "<tr><td><i style='opacity: 0.6'>3</i></td><td>403-0667089-7101115</td><td>06-05-22</td><td>Shipped - Delivered to Buyer</td><td style=\"text-align: right;\">  729   </td><td>Standard            </td></tr>\n",
       "<tr><td><i style='opacity: 0.6'>4</i></td><td>407-4892173-6466748</td><td>05-20-22</td><td>Shipped                     </td><td style=\"text-align: right;\">  529   </td><td>Expedited           </td></tr>\n",
       "<tr><td><i style='opacity: 0.6'>5</i></td><td>408-4557401-8025150</td><td>04-28-22</td><td>Shipped                     </td><td style=\"text-align: right;\">  318   </td><td>Expedited           </td></tr>\n",
       "<tr><td><i style='opacity: 0.6'>6</i></td><td>407-3013059-7271539</td><td>04-25-22</td><td>Cancelled                   </td><td style=\"text-align: right;\">  358.1 </td><td>Standard            </td></tr>\n",
       "<tr><td><i style='opacity: 0.6'>7</i></td><td>402-8470856-8643515</td><td>05-18-22</td><td>Cancelled                   </td><td style=\"text-align: right;\">  562.86</td><td>Standard            </td></tr>\n",
       "</tbody>\n",
       "</table>"
      ],
      "text/plain": [
       "  #  Order ID             Date      Status                          Amount  ship-service-level\n",
       "  0  404-2409117-6801939  05-20-22  Shipped                         346     Expedited\n",
       "  1  408-0336818-2998712  05-06-22  Shipped                        1108     Expedited\n",
       "  2  405-2928828-3497149  05-06-22  Shipped                         759     Expedited\n",
       "  3  403-0667089-7101115  06-05-22  Shipped - Delivered to Buyer    729     Standard\n",
       "  4  407-4892173-6466748  05-20-22  Shipped                         529     Expedited\n",
       "  5  408-4557401-8025150  04-28-22  Shipped                         318     Expedited\n",
       "  6  407-3013059-7271539  04-25-22  Cancelled                       358.1   Standard\n",
       "  7  402-8470856-8643515  05-18-22  Cancelled                       562.86  Standard"
      ]
     },
     "execution_count": 5,
     "metadata": {},
     "output_type": "execute_result"
    }
   ],
   "source": [
    "df_base.sample(8)"
   ]
  },
  {
   "cell_type": "code",
   "execution_count": 6,
   "metadata": {},
   "outputs": [
    {
     "name": "stdout",
     "output_type": "stream",
     "text": [
      "1\n",
      "128975\n",
      "8\n",
      "1031800\n",
      "39\n",
      "5030025\n",
      "78\n",
      "10060050\n",
      "194\n",
      "25021150\n",
      "388\n",
      "50042300\n",
      "582\n",
      "75063450\n",
      "776\n",
      "100084600\n",
      "1008\n",
      "130006800\n",
      "1357\n",
      "175019075\n"
     ]
    }
   ],
   "source": [
    "n_df = [int(i/0.129)+1 for i in (0.12,1,5,10,25,50,75,100,130,175)]\n",
    "# n_df = [int(i/0.129)+1 for i in (50,75,100,130,175)]\n",
    "\n",
    "k = 0\n",
    "for n in n_df:\n",
    "    print(n)\n",
    "    list_df_temp = [df_base]*n\n",
    "    df_temp = vx.concat(list_df_temp)\n",
    "    print(df_temp.shape[0])\n",
    "    df_temp.export(PATH_DATA+'data_{}.csv'.format(k),index=False)\n",
    "    df_temp.export(PATH_DATA+'data_{}.parquet'.format(k))\n",
    "\n",
    "    del list_df_temp\n",
    "    del df_temp\n",
    "    gc.collect()\n",
    "    k+=1\n"
   ]
  },
  {
   "cell_type": "code",
   "execution_count": null,
   "metadata": {},
   "outputs": [],
   "source": []
  }
 ],
 "metadata": {
  "kernelspec": {
   "display_name": "dfs",
   "language": "python",
   "name": "dfs"
  },
  "language_info": {
   "codemirror_mode": {
    "name": "ipython",
    "version": 3
   },
   "file_extension": ".py",
   "mimetype": "text/x-python",
   "name": "python",
   "nbconvert_exporter": "python",
   "pygments_lexer": "ipython3",
   "version": "3.8.10"
  },
  "orig_nbformat": 4
 },
 "nbformat": 4,
 "nbformat_minor": 2
}
