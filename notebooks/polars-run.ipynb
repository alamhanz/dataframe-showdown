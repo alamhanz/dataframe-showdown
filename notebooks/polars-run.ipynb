{
 "cells": [
  {
   "attachments": {},
   "cell_type": "markdown",
   "metadata": {},
   "source": [
    "# Polars Run"
   ]
  },
  {
   "cell_type": "code",
   "execution_count": 1,
   "metadata": {},
   "outputs": [],
   "source": [
    "import os\n",
    "import polars as pl\n",
    "import time\n",
    "import numpy as np\n",
    "import shutil\n",
    "import gc\n",
    "import joblib\n",
    "import psutil"
   ]
  },
  {
   "cell_type": "code",
   "execution_count": 2,
   "metadata": {},
   "outputs": [],
   "source": [
    "# PATH_DATA = '../../df-showdown-data/'\n",
    "PATH_DATA = 'O:/df-showdown-data/'\n",
    "TEMP_PATH = PATH_DATA+'temp/'\n",
    "PATH_OUTPUT = '../output/'\n",
    "\n",
    "SLA_NAME = 'polars-sla.pkl'\n",
    "MEM_NAME = 'polars-mem.pkl'\n"
   ]
  },
  {
   "cell_type": "code",
   "execution_count": 3,
   "metadata": {},
   "outputs": [],
   "source": [
    "all_sla = {}\n",
    "all_memory = {}"
   ]
  },
  {
   "cell_type": "code",
   "execution_count": 4,
   "metadata": {},
   "outputs": [],
   "source": [
    "def get_memory():\n",
    "    est_memory = psutil.virtual_memory()[3]/1000000000\n",
    "    return est_memory"
   ]
  },
  {
   "cell_type": "code",
   "execution_count": null,
   "metadata": {},
   "outputs": [],
   "source": []
  },
  {
   "attachments": {},
   "cell_type": "markdown",
   "metadata": {},
   "source": [
    "##     Task1 & Task2- I/O"
   ]
  },
  {
   "cell_type": "code",
   "execution_count": 6,
   "metadata": {},
   "outputs": [],
   "source": [
    "all_sla['task1'] = {}\n",
    "all_sla['task1']['csv'] = {}\n",
    "all_sla['task1']['prq'] = {}\n",
    "\n",
    "all_sla['task2'] = {}\n",
    "all_sla['task2']['csv'] = {}\n",
    "all_sla['task2']['prq'] = {}\n",
    "\n",
    "\n",
    "\n",
    "all_memory['task1'] = {}\n",
    "all_memory['task1']['csv'] = {}\n",
    "all_memory['task1']['prq'] = {}\n",
    "\n",
    "all_memory['task2'] = {}\n",
    "all_memory['task2']['csv'] = {}\n",
    "all_memory['task2']['prq'] = {}\n"
   ]
  },
  {
   "cell_type": "code",
   "execution_count": 7,
   "metadata": {},
   "outputs": [
    {
     "name": "stdout",
     "output_type": "stream",
     "text": [
      "0\n"
     ]
    }
   ],
   "source": [
    "for i in range(10):\n",
    "    print(i)\n",
    "    if i<=5:\n",
    "        fn = 'data_{}.csv'.format(i)\n",
    "        start = time.perf_counter()\n",
    "        start_mem = get_memory()\n",
    "        dtemp1 = pl.read_csv(PATH_DATA+fn)\n",
    "        end_mem = get_memory() - start_mem\n",
    "        end = time.perf_counter() - start\n",
    "        nrows = str(int(dtemp1.shape[0]/1000000))\n",
    "        all_sla['task1']['csv'][nrows]=end\n",
    "        all_memory['task1']['csv'][nrows]=end_mem\n",
    "\n",
    "        start = time.perf_counter()\n",
    "        start_mem = get_memory()\n",
    "        dtemp1.write_csv(TEMP_PATH + 'temp.csv')\n",
    "        end_mem = get_memory() - start_mem\n",
    "        end = time.perf_counter() - start\n",
    "        all_sla['task2']['csv'][nrows]=end\n",
    "        all_memory['task2']['csv'][nrows]=end_mem\n",
    "\n",
    "        del dtemp1\n",
    "        time.sleep(3)\n",
    "        gc.collect()\n",
    "        os.remove(TEMP_PATH + 'temp.csv')\n",
    "        time.sleep(2)\n",
    "\n",
    "    fn = 'data_{}.parquet'.format(i)\n",
    "    start = time.perf_counter()\n",
    "    start_mem = get_memory()\n",
    "    dtemp1 = pl.read_parquet(PATH_DATA+fn)\n",
    "    end_mem = get_memory() - start_mem\n",
    "    end = time.perf_counter() - start\n",
    "    nrows = str(int(dtemp1.shape[0]/1000000))\n",
    "    all_sla['task1']['prq'][nrows]=end\n",
    "    all_memory['task1']['prq'][nrows]=end_mem\n",
    "    \n",
    "    start = time.perf_counter()\n",
    "    start_mem = get_memory()\n",
    "    dtemp1.write_parquet(TEMP_PATH + 'temp.parquet')\n",
    "    end_mem = get_memory() - start_mem\n",
    "    end = time.perf_counter() - start\n",
    "    all_sla['task2']['prq'][nrows]=end\n",
    "    all_memory['task2']['prq'][nrows]=end_mem\n",
    "\n",
    "    del dtemp1\n",
    "    time.sleep(3)\n",
    "    gc.collect()\n",
    "    os.remove(TEMP_PATH + 'temp.parquet')"
   ]
  },
  {
   "cell_type": "code",
   "execution_count": null,
   "metadata": {},
   "outputs": [
    {
     "data": {
      "text/plain": [
       "{'task1': {'csv': {'0': 0.16099870000000038,\n",
       "   '1': 0.3077761999999993,\n",
       "   '5': 1.1734246000000041,\n",
       "   '10': 2.102643200000003,\n",
       "   '25': 5.230756799999995,\n",
       "   '50': 10.846368299999995},\n",
       "  'prq': {'0': 0.05256959999999822,\n",
       "   '1': 0.17753230000000286,\n",
       "   '5': 0.7214586999999995,\n",
       "   '10': 0.7363069999999965,\n",
       "   '25': 1.6508228000000003,\n",
       "   '50': 2.8471288000000072,\n",
       "   '75': 4.492547999999999,\n",
       "   '100': 6.217244899999997,\n",
       "   '130': 7.500584500000002,\n",
       "   '175': 9.678802899999994}},\n",
       " 'task2': {'csv': {'0': 0.06411439999999935,\n",
       "   '1': 0.3586500000000008,\n",
       "   '5': 1.6166247999999968,\n",
       "   '10': 3.217411399999996,\n",
       "   '25': 7.449408599999998,\n",
       "   '50': 12.072568599999997},\n",
       "  'prq': {'0': 0.1307980999999998,\n",
       "   '1': 0.6566686999999973,\n",
       "   '5': 2.7804988999999978,\n",
       "   '10': 5.6442914,\n",
       "   '25': 11.051721599999993,\n",
       "   '50': 19.148449100000022,\n",
       "   '75': 31.37988969999998,\n",
       "   '100': 40.1406825,\n",
       "   '130': 51.59423039999999,\n",
       "   '175': 69.49319270000001}}}"
      ]
     },
     "execution_count": 7,
     "metadata": {},
     "output_type": "execute_result"
    }
   ],
   "source": [
    "all_sla"
   ]
  },
  {
   "cell_type": "code",
   "execution_count": 8,
   "metadata": {},
   "outputs": [
    {
     "data": {
      "text/plain": [
       "{'task1': {'csv': {'0': 0.03451289600000074,\n",
       "   '1': 0.22044262400000036,\n",
       "   '5': 0.8488959999999999,\n",
       "   '10': 1.3700096000000004,\n",
       "   '25': 2.387017728,\n",
       "   '50': 4.196810752},\n",
       "  'prq': {'0': 0.0026542080000000468,\n",
       "   '1': 0.008527872000000158,\n",
       "   '5': 0.22272409600000032,\n",
       "   '10': 0.9276989440000003,\n",
       "   '25': 1.5105720319999998,\n",
       "   '50': 3.272417280000001,\n",
       "   '75': 3.4160271360000003,\n",
       "   '100': 4.125384704,\n",
       "   '130': 7.363043327999998,\n",
       "   '175': 7.275491327999999}},\n",
       " 'task2': {'csv': {'0': 0.004272128000000208,\n",
       "   '1': 0.03210854399999974,\n",
       "   '5': 0.0029491200000002493,\n",
       "   '10': 0.016809984,\n",
       "   '25': -0.1185218559999992,\n",
       "   '50': -0.5534515199999994},\n",
       "  'prq': {'0': 0.011591680000000437,\n",
       "   '1': -0.0030269440000001424,\n",
       "   '5': -0.049393664000000115,\n",
       "   '10': -0.35606937599999977,\n",
       "   '25': -0.17675059200000032,\n",
       "   '50': -0.07909785599999886,\n",
       "   '75': 0.02381823999999888,\n",
       "   '100': -2.283302912,\n",
       "   '130': 0.11131289600000116,\n",
       "   '175': -0.07727923199999864}}}"
      ]
     },
     "execution_count": 8,
     "metadata": {},
     "output_type": "execute_result"
    }
   ],
   "source": [
    "all_memory"
   ]
  },
  {
   "cell_type": "code",
   "execution_count": 9,
   "metadata": {},
   "outputs": [],
   "source": [
    "# del dtemp1\n",
    "# gc.collect()"
   ]
  },
  {
   "cell_type": "code",
   "execution_count": null,
   "metadata": {},
   "outputs": [],
   "source": []
  },
  {
   "attachments": {},
   "cell_type": "markdown",
   "metadata": {},
   "source": [
    "## Get Data for other task"
   ]
  },
  {
   "cell_type": "code",
   "execution_count": 5,
   "metadata": {},
   "outputs": [],
   "source": [
    "all_df = [pl.read_parquet(PATH_DATA+'data_{}.parquet'.format(i)) for i in [4,5,6,7]]\n",
    "df_right = pl.read_parquet(PATH_DATA+'data_to_join.parquet')\n",
    "time.sleep(5)"
   ]
  },
  {
   "cell_type": "code",
   "execution_count": 6,
   "metadata": {},
   "outputs": [
    {
     "data": {
      "text/plain": [
       "4"
      ]
     },
     "execution_count": 6,
     "metadata": {},
     "output_type": "execute_result"
    }
   ],
   "source": [
    "len(all_df)"
   ]
  },
  {
   "cell_type": "code",
   "execution_count": null,
   "metadata": {},
   "outputs": [],
   "source": []
  },
  {
   "attachments": {},
   "cell_type": "markdown",
   "metadata": {},
   "source": [
    "## Task3 - Sorting"
   ]
  },
  {
   "cell_type": "code",
   "execution_count": 12,
   "metadata": {},
   "outputs": [],
   "source": [
    "n_task = 'task3'\n",
    "all_sla[n_task] = {}\n",
    "all_memory[n_task] = {}"
   ]
  },
  {
   "cell_type": "code",
   "execution_count": 13,
   "metadata": {},
   "outputs": [
    {
     "name": "stdout",
     "output_type": "stream",
     "text": [
      "25.02\n",
      "50.04\n",
      "75.06\n",
      "100.08\n"
     ]
    }
   ],
   "source": [
    "for dtemp1 in all_df:\n",
    "    print(round(len(dtemp1)/1000000,2))\n",
    "    start = time.perf_counter()\n",
    "    start_mem = get_memory()\n",
    "    # dtemp2 = dtemp1.sort(['Date','Amount'],ascending=[True,False])\n",
    "    dtemp2 = dtemp1.with_columns(\n",
    "            pl.col('Amount').sort(descending=True),\n",
    "            pl.col('Date').sort(descending=False),\n",
    "    )\n",
    "    end_mem = get_memory() - start_mem\n",
    "    end = time.perf_counter() - start\n",
    "    nrows = str(int(dtemp1.shape[0]/1000000))\n",
    "    \n",
    "    all_sla[n_task][nrows]=end\n",
    "    all_memory[n_task][nrows]=end_mem\n",
    "\n",
    "    del dtemp1\n",
    "    del dtemp2\n",
    "    time.sleep(4)\n",
    "    gc.collect()\n",
    "    time.sleep(4)\n",
    "    gc.collect()\n"
   ]
  },
  {
   "cell_type": "code",
   "execution_count": 14,
   "metadata": {},
   "outputs": [
    {
     "data": {
      "text/plain": [
       "{'25': 2.1028130999999917,\n",
       " '50': 3.3410537999999974,\n",
       " '75': 4.712370999999962,\n",
       " '100': 6.854098100000044}"
      ]
     },
     "execution_count": 14,
     "metadata": {},
     "output_type": "execute_result"
    }
   ],
   "source": [
    "all_sla[n_task]"
   ]
  },
  {
   "cell_type": "code",
   "execution_count": 15,
   "metadata": {},
   "outputs": [
    {
     "data": {
      "text/plain": [
       "{'25': 0.15716761599999884,\n",
       " '50': 1.193680896,\n",
       " '75': 2.3119831039999994,\n",
       " '100': 3.445424127999999}"
      ]
     },
     "execution_count": 15,
     "metadata": {},
     "output_type": "execute_result"
    }
   ],
   "source": [
    "all_memory[n_task]"
   ]
  },
  {
   "cell_type": "code",
   "execution_count": null,
   "metadata": {},
   "outputs": [],
   "source": []
  },
  {
   "attachments": {},
   "cell_type": "markdown",
   "metadata": {},
   "source": [
    "## Task4 - Filtering"
   ]
  },
  {
   "cell_type": "code",
   "execution_count": 16,
   "metadata": {},
   "outputs": [],
   "source": [
    "n_task = 'task4'\n",
    "all_sla[n_task] = {}\n",
    "all_memory[n_task] = {}"
   ]
  },
  {
   "cell_type": "code",
   "execution_count": 17,
   "metadata": {},
   "outputs": [
    {
     "name": "stdout",
     "output_type": "stream",
     "text": [
      "25.02\n",
      "50.04\n",
      "75.06\n",
      "100.08\n"
     ]
    }
   ],
   "source": [
    "# dtemp1 = all_df[0]\n",
    "filt1 = ['Shipped - Delivered to Buyer', 'Cancelled']\n",
    "for dtemp1 in all_df:\n",
    "    print(round(len(dtemp1)/1000000,2))\n",
    "    start = time.perf_counter()\n",
    "    start_mem = get_memory()\n",
    "    # dtemp2 = dtemp1[(dtemp1['Amount']>300) & (~dtemp1['Status'].isin(filt1))]\n",
    "    dtemp2 = (dtemp1\n",
    "                .filter((pl.col('Amount')>300) & (pl.col('Status').is_in(filt1)))\n",
    "              )\n",
    "    \n",
    "    end_mem = get_memory() - start_mem\n",
    "    end = time.perf_counter() - start\n",
    "    nrows = str(int(dtemp1.shape[0]/1000000))\n",
    "    \n",
    "    all_sla[n_task][nrows]=end\n",
    "    all_memory[n_task][nrows]=end_mem\n",
    "\n",
    "    del dtemp1\n",
    "    del dtemp2\n",
    "    time.sleep(4)\n",
    "    gc.collect()\n",
    "    time.sleep(4)\n",
    "    gc.collect()\n",
    "    \n"
   ]
  },
  {
   "cell_type": "code",
   "execution_count": 18,
   "metadata": {},
   "outputs": [
    {
     "data": {
      "text/plain": [
       "{'25': 2.0671593000000144,\n",
       " '50': 6.015051000000028,\n",
       " '75': 16.865526500000044,\n",
       " '100': 37.6271827999999}"
      ]
     },
     "execution_count": 18,
     "metadata": {},
     "output_type": "execute_result"
    }
   ],
   "source": [
    "all_sla[n_task]"
   ]
  },
  {
   "cell_type": "code",
   "execution_count": 19,
   "metadata": {},
   "outputs": [
    {
     "data": {
      "text/plain": [
       "{'25': 3.2234987519999976,\n",
       " '50': 4.786819072,\n",
       " '75': 3.3209344000000023,\n",
       " '100': 5.527343104}"
      ]
     },
     "execution_count": 19,
     "metadata": {},
     "output_type": "execute_result"
    }
   ],
   "source": [
    "all_memory[n_task]"
   ]
  },
  {
   "cell_type": "code",
   "execution_count": null,
   "metadata": {},
   "outputs": [],
   "source": []
  },
  {
   "attachments": {},
   "cell_type": "markdown",
   "metadata": {},
   "source": [
    "## Task5 - Merging"
   ]
  },
  {
   "cell_type": "code",
   "execution_count": 10,
   "metadata": {},
   "outputs": [],
   "source": [
    "n_task = 'task5'\n",
    "all_sla[n_task] = {}\n",
    "all_memory[n_task] = {}"
   ]
  },
  {
   "cell_type": "code",
   "execution_count": 11,
   "metadata": {},
   "outputs": [],
   "source": [
    "df_right2 = (df_right.with_columns((pl.col('Date')+'_'+pl.col('ship-service-level')).alias('key_merge'))\n",
    "             .select('key_merge','amount_avg'))"
   ]
  },
  {
   "cell_type": "code",
   "execution_count": 12,
   "metadata": {},
   "outputs": [
    {
     "name": "stdout",
     "output_type": "stream",
     "text": [
      "25.02\n",
      "waiting\n",
      "start merge\n",
      "50.04\n",
      "waiting\n",
      "start merge\n",
      "75.06\n",
      "waiting\n",
      "start merge\n"
     ]
    },
    {
     "ename": "",
     "evalue": "",
     "output_type": "error",
     "traceback": [
      "\u001b[1;31mCanceled future for execute_request message before replies were done"
     ]
    },
    {
     "ename": "",
     "evalue": "",
     "output_type": "error",
     "traceback": [
      "\u001b[1;31mThe Kernel crashed while executing code in the the current cell or a previous cell. Please review the code in the cell(s) to identify a possible cause of the failure. Click <a href='https://aka.ms/vscodeJupyterKernelCrash'>here</a> for more info. View Jupyter <a href='command:jupyter.viewOutput'>log</a> for further details."
     ]
    }
   ],
   "source": [
    "for dtemp1 in all_df:\n",
    "    time.sleep(5)\n",
    "    print(round(len(dtemp1)/1000000,2))\n",
    "    dtemp1 = dtemp1.with_columns((pl.col('Date')+'_'+pl.col('ship-service-level')).alias('key_merge'))\n",
    "    dtemp1.drop_in_place('Date')\n",
    "    dtemp1.drop_in_place('ship-service-level')\n",
    "\n",
    "    print('waiting')\n",
    "    time.sleep(7)\n",
    "    gc.collect()\n",
    "    time.sleep(4)\n",
    "    gc.collect()\n",
    "\n",
    "    print('start merge')\n",
    "    start = time.perf_counter()\n",
    "    start_mem = get_memory()\n",
    "    dtemp2 = dtemp1.join(df_right2,on='key_merge',how='left')\n",
    "    end_mem = get_memory() - start_mem\n",
    "    end = time.perf_counter() - start\n",
    "    nrows = str(int(dtemp1.shape[0]/1000000))\n",
    "\n",
    "    all_sla[n_task][nrows]=end\n",
    "    all_memory[n_task][nrows]=end_mem\n",
    "\n",
    "    del dtemp1\n",
    "    del dtemp2\n",
    "    time.sleep(4)\n",
    "    gc.collect()\n",
    "    time.sleep(4)\n",
    "    gc.collect()"
   ]
  },
  {
   "cell_type": "code",
   "execution_count": null,
   "metadata": {},
   "outputs": [
    {
     "ename": "NameError",
     "evalue": "name 'all_sla' is not defined",
     "output_type": "error",
     "traceback": [
      "\u001b[1;31m---------------------------------------------------------------------------\u001b[0m",
      "\u001b[1;31mNameError\u001b[0m                                 Traceback (most recent call last)",
      "Cell \u001b[1;32mIn[1], line 1\u001b[0m\n\u001b[1;32m----> 1\u001b[0m all_sla[n_task]\n",
      "\u001b[1;31mNameError\u001b[0m: name 'all_sla' is not defined"
     ]
    }
   ],
   "source": [
    "all_sla[n_task]"
   ]
  },
  {
   "cell_type": "code",
   "execution_count": null,
   "metadata": {},
   "outputs": [
    {
     "data": {
      "text/plain": [
       "{'25': 1.225998336,\n",
       " '50': 2.3351336959999998,\n",
       " '75': 3.5374899200000023,\n",
       " '100': 3.2817152000000007}"
      ]
     },
     "execution_count": 30,
     "metadata": {},
     "output_type": "execute_result"
    }
   ],
   "source": [
    "all_memory[n_task]"
   ]
  },
  {
   "cell_type": "code",
   "execution_count": null,
   "metadata": {},
   "outputs": [],
   "source": []
  },
  {
   "attachments": {},
   "cell_type": "markdown",
   "metadata": {},
   "source": [
    "## Task6 - udf apply"
   ]
  },
  {
   "cell_type": "code",
   "execution_count": 16,
   "metadata": {},
   "outputs": [],
   "source": [
    "n_task = 'task6'\n",
    "all_sla[n_task] = {}\n",
    "all_memory[n_task] = {}"
   ]
  },
  {
   "cell_type": "code",
   "execution_count": 17,
   "metadata": {},
   "outputs": [],
   "source": [
    "def fun(x):\n",
    "    x0 = x + 1\n",
    "    for i in range(25):\n",
    "        if x0<800:\n",
    "            x0 += i\n",
    "            x0 = (x0/3.0)*2.5\n",
    "            x0 = x0*1.2\n",
    "        else:\n",
    "            x0 += i/2.0\n",
    "            x0 = (x0/4.0)*3.8\n",
    "\n",
    "    return x0"
   ]
  },
  {
   "cell_type": "code",
   "execution_count": 18,
   "metadata": {},
   "outputs": [
    {
     "name": "stdout",
     "output_type": "stream",
     "text": [
      "25.02\n"
     ]
    }
   ],
   "source": [
    "# dtemp1=all_df[0]\n",
    "# dtemp1['Amount2'] = dtemp1['Amount'].apply(fun)\n",
    "for dtemp1 in all_df:\n",
    "    print(round(len(dtemp1)/1000000,2))\n",
    "    start = time.perf_counter()\n",
    "    start_mem = get_memory()\n",
    "    dtemp1['Amount2'] = dtemp1['Amount'].apply(fun)\n",
    "    end_mem = get_memory() - start_mem\n",
    "    end = time.perf_counter() - start\n",
    "    nrows = str(int(dtemp1.shape[0]/1000000))\n",
    "    \n",
    "    all_sla[n_task][nrows]=end\n",
    "    all_memory[n_task][nrows]=end_mem\n",
    "    \n",
    "    del dtemp1\n",
    "    time.sleep(4)\n",
    "    gc.collect()\n",
    "    time.sleep(4)\n",
    "    gc.collect()"
   ]
  },
  {
   "cell_type": "code",
   "execution_count": 34,
   "metadata": {},
   "outputs": [
    {
     "data": {
      "text/plain": [
       "{'25': 112.1799453000001, '50': 225.9367654}"
      ]
     },
     "execution_count": 34,
     "metadata": {},
     "output_type": "execute_result"
    }
   ],
   "source": [
    "all_sla[n_task]"
   ]
  },
  {
   "cell_type": "code",
   "execution_count": 35,
   "metadata": {},
   "outputs": [
    {
     "data": {
      "text/plain": [
       "{'25': 0.5384683519999989, '50': -2.4369602560000008}"
      ]
     },
     "execution_count": 35,
     "metadata": {},
     "output_type": "execute_result"
    }
   ],
   "source": [
    "all_memory[n_task]"
   ]
  },
  {
   "cell_type": "code",
   "execution_count": null,
   "metadata": {},
   "outputs": [],
   "source": []
  },
  {
   "attachments": {},
   "cell_type": "markdown",
   "metadata": {},
   "source": [
    "## Task7 - aggregation"
   ]
  },
  {
   "cell_type": "code",
   "execution_count": 8,
   "metadata": {},
   "outputs": [],
   "source": [
    "n_task = 'task7'\n",
    "all_sla[n_task] = {}\n",
    "all_memory[n_task] = {}"
   ]
  },
  {
   "cell_type": "code",
   "execution_count": 9,
   "metadata": {},
   "outputs": [],
   "source": [
    "def p25(x):\n",
    "    return np.percentile(x,25)\n",
    "\n",
    "def p75(x):\n",
    "    return np.percentile(x,75)"
   ]
  },
  {
   "cell_type": "code",
   "execution_count": 10,
   "metadata": {},
   "outputs": [
    {
     "name": "stdout",
     "output_type": "stream",
     "text": [
      "25.02\n",
      "50.04\n",
      "75.06\n"
     ]
    },
    {
     "ename": "",
     "evalue": "",
     "output_type": "error",
     "traceback": [
      "\u001b[1;31mCanceled future for execute_request message before replies were done"
     ]
    },
    {
     "ename": "",
     "evalue": "",
     "output_type": "error",
     "traceback": [
      "\u001b[1;31mThe Kernel crashed while executing code in the the current cell or a previous cell. Please review the code in the cell(s) to identify a possible cause of the failure. Click <a href='https://aka.ms/vscodeJupyterKernelCrash'>here</a> for more info. View Jupyter <a href='command:jupyter.viewOutput'>log</a> for further details."
     ]
    }
   ],
   "source": [
    "# dtemp1=all_df[0]\n",
    "for dtemp1 in all_df:\n",
    "    print(round(len(dtemp1)/1000000,2))\n",
    "    start = time.perf_counter()\n",
    "    start_mem = get_memory()\n",
    "    # dtemp2 = dtemp1.groupby(['Date','Status']).agg({'Amount':[np.mean, np.size, p25, p75]})\n",
    "    dtemp1 = dtemp1.groupby(['Date','Status']).agg([pl.col('Amount').mean().alias('amount_mean')])\n",
    "\n",
    "    end_mem = get_memory() - start_mem\n",
    "    end = time.perf_counter() - start\n",
    "    nrows = str(int(dtemp1.shape[0]/1000000))\n",
    "    \n",
    "    all_sla[n_task][nrows]=end\n",
    "    all_memory[n_task][nrows]=end_mem\n",
    "\n",
    "    del dtemp1\n",
    "    time.sleep(4)\n",
    "    gc.collect()\n",
    "    time.sleep(4)\n",
    "    gc.collect()"
   ]
  },
  {
   "cell_type": "code",
   "execution_count": 17,
   "metadata": {},
   "outputs": [
    {
     "data": {
      "text/plain": [
       "{'25': 3.367476599999975,\n",
       " '50': 7.263250599999992,\n",
       " '75': 9.238950799999998,\n",
       " '100': 14.18757690000001}"
      ]
     },
     "execution_count": 17,
     "metadata": {},
     "output_type": "execute_result"
    }
   ],
   "source": [
    "all_sla[n_task]"
   ]
  },
  {
   "cell_type": "code",
   "execution_count": 18,
   "metadata": {},
   "outputs": [
    {
     "data": {
      "text/plain": [
       "{'25': 0.15176499200000038,\n",
       " '50': -0.06929203199999989,\n",
       " '75': 0.05231001599999985,\n",
       " '100': -0.5718097919999998}"
      ]
     },
     "execution_count": 18,
     "metadata": {},
     "output_type": "execute_result"
    }
   ],
   "source": [
    "all_memory[n_task]"
   ]
  },
  {
   "cell_type": "code",
   "execution_count": null,
   "metadata": {},
   "outputs": [],
   "source": []
  },
  {
   "attachments": {},
   "cell_type": "markdown",
   "metadata": {},
   "source": [
    "## Save results"
   ]
  },
  {
   "cell_type": "code",
   "execution_count": 19,
   "metadata": {},
   "outputs": [
    {
     "data": {
      "text/plain": [
       "['../output/pandas-mem.pkl']"
      ]
     },
     "execution_count": 19,
     "metadata": {},
     "output_type": "execute_result"
    }
   ],
   "source": [
    "joblib.dump(all_sla,PATH_OUTPUT+SLA_NAME)\n",
    "joblib.dump(all_memory,PATH_OUTPUT+MEM_NAME)"
   ]
  },
  {
   "cell_type": "code",
   "execution_count": null,
   "metadata": {},
   "outputs": [],
   "source": []
  }
 ],
 "metadata": {
  "kernelspec": {
   "display_name": "dfs",
   "language": "python",
   "name": "dfs"
  },
  "language_info": {
   "codemirror_mode": {
    "name": "ipython",
    "version": 3
   },
   "file_extension": ".py",
   "mimetype": "text/x-python",
   "name": "python",
   "nbconvert_exporter": "python",
   "pygments_lexer": "ipython3",
   "version": "3.8.10"
  },
  "orig_nbformat": 4
 },
 "nbformat": 4,
 "nbformat_minor": 2
}
