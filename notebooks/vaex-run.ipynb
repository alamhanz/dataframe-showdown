{
 "cells": [
  {
   "attachments": {},
   "cell_type": "markdown",
   "metadata": {},
   "source": [
    "# Vaex Run"
   ]
  },
  {
   "cell_type": "code",
   "execution_count": 1,
   "metadata": {},
   "outputs": [],
   "source": [
    "import os\n",
    "import vaex as vx\n",
    "import time\n",
    "import numpy as np\n",
    "import shutil\n",
    "import gc\n",
    "import joblib"
   ]
  },
  {
   "cell_type": "code",
   "execution_count": 4,
   "metadata": {},
   "outputs": [],
   "source": [
    "PATH_DATA = '../../df-showdown-data/'\n",
    "TEMP_PATH = PATH_DATA+'temp/'\n",
    "PATH_OUTPUT = '../output/'\n",
    "\n",
    "SLA_NAME = 'vaex-sla.pkl'"
   ]
  },
  {
   "cell_type": "code",
   "execution_count": 5,
   "metadata": {},
   "outputs": [],
   "source": [
    "all_sla = {}"
   ]
  },
  {
   "attachments": {},
   "cell_type": "markdown",
   "metadata": {},
   "source": [
    "##     Task1 & Task2- I/O"
   ]
  },
  {
   "cell_type": "code",
   "execution_count": 6,
   "metadata": {},
   "outputs": [],
   "source": [
    "all_sla['task1'] = {}\n",
    "all_sla['task1']['csv'] = {}\n",
    "all_sla['task1']['prq'] = {}\n",
    "\n",
    "all_sla['task2'] = {}\n",
    "all_sla['task2']['csv'] = {}\n",
    "all_sla['task2']['prq'] = {}\n"
   ]
  },
  {
   "cell_type": "code",
   "execution_count": 7,
   "metadata": {},
   "outputs": [],
   "source": [
    "for i in range(9):\n",
    "    fn = 'data_{}.csv'.format(i)\n",
    "    start = time.perf_counter()\n",
    "    dtemp1 = vx.open(PATH_DATA+fn)\n",
    "    end = time.perf_counter() - start\n",
    "    nrows = str(int(dtemp1.shape[0]/1000000))\n",
    "    all_sla['task1']['csv'][nrows]=end\n",
    "\n",
    "    start = time.perf_counter()\n",
    "    dtemp1.export(TEMP_PATH + 'temp.csv',index=False)\n",
    "    end = time.perf_counter() - start\n",
    "    all_sla['task2']['csv'][nrows]=end\n",
    "\n",
    "    del dtemp1\n",
    "    gc.collect()\n",
    "    os.remove(TEMP_PATH + 'temp.csv')\n",
    "    time.sleep(2)\n",
    "\n",
    "    fn = 'data_{}.parquet'.format(i)\n",
    "    start = time.perf_counter()\n",
    "    dtemp1 = vx.open(PATH_DATA+fn)\n",
    "    end = time.perf_counter() - start\n",
    "    nrows = str(int(dtemp1.shape[0]/1000000))\n",
    "    all_sla['task1']['prq'][nrows]=end\n",
    "    \n",
    "\n",
    "    start = time.perf_counter()\n",
    "    dtemp1.export(TEMP_PATH + 'temp.parquet',index=False)\n",
    "    end = time.perf_counter() - start\n",
    "    all_sla['task2']['prq'][nrows]=end\n",
    "\n",
    "    del dtemp1\n",
    "    gc.collect()\n",
    "    os.remove(TEMP_PATH + 'temp.parquet')"
   ]
  },
  {
   "cell_type": "code",
   "execution_count": null,
   "metadata": {},
   "outputs": [
    {
     "data": {
      "text/plain": [
       "{'task1': {'csv': {'0': 0.2829878000000008,\n",
       "   '1': 2.218104699999998,\n",
       "   '3': 4.497733400000001,\n",
       "   '9': 10.768187100000006,\n",
       "   '19': 21.651349699999997,\n",
       "   '34': 40.695483800000034,\n",
       "   '45': 50.86708269999997,\n",
       "   '58': 66.61110070000007,\n",
       "   '71': 85.8427071000001},\n",
       "  'prq': {'0': 0.1353975000000105,\n",
       "   '1': 0.7144555999999938,\n",
       "   '3': 1.2158343000000116,\n",
       "   '9': 4.565950799999996,\n",
       "   '19': 7.757134000000008,\n",
       "   '34': 13.594654099999957,\n",
       "   '45': 18.150944200000026,\n",
       "   '58': 22.409480099999996,\n",
       "   '71': 28.027638700000125}},\n",
       " 'task2': {'csv': {'0': 0.48640100000000075,\n",
       "   '1': 4.362415499999997,\n",
       "   '3': 8.332460199999986,\n",
       "   '9': 24.607668099999984,\n",
       "   '19': 49.68972739999998,\n",
       "   '34': 86.75615580000004,\n",
       "   '45': 111.79567409999993,\n",
       "   '58': 145.78824739999993,\n",
       "   '71': 183.58592249999992},\n",
       "  'prq': {'0': 0.1621298999999965,\n",
       "   '1': 1.707086600000011,\n",
       "   '3': 2.352528299999989,\n",
       "   '9': 6.430279799999994,\n",
       "   '19': 12.849858099999949,\n",
       "   '34': 23.022432500000036,\n",
       "   '45': 30.084140899999966,\n",
       "   '58': 38.279359399999976,\n",
       "   '71': 47.82304360000012}}}"
      ]
     },
     "execution_count": 9,
     "metadata": {},
     "output_type": "execute_result"
    }
   ],
   "source": [
    "all_sla"
   ]
  },
  {
   "cell_type": "code",
   "execution_count": null,
   "metadata": {},
   "outputs": [],
   "source": []
  },
  {
   "attachments": {},
   "cell_type": "markdown",
   "metadata": {},
   "source": [
    "## Get Data for other task"
   ]
  },
  {
   "cell_type": "code",
   "execution_count": 10,
   "metadata": {},
   "outputs": [],
   "source": [
    "all_df = [vx.open(PATH_DATA+'data_{}.parquet'.format(i)) for i in [2,3,4,5,6]]\n",
    "df_right = vx.open(PATH_DATA+'data_to_join.parquet')"
   ]
  },
  {
   "cell_type": "code",
   "execution_count": null,
   "metadata": {},
   "outputs": [],
   "source": []
  },
  {
   "attachments": {},
   "cell_type": "markdown",
   "metadata": {},
   "source": [
    "## Task3 - Sorting"
   ]
  },
  {
   "cell_type": "code",
   "execution_count": 11,
   "metadata": {},
   "outputs": [],
   "source": [
    "n_task = 'task3'\n",
    "all_sla[n_task] = {}"
   ]
  },
  {
   "cell_type": "code",
   "execution_count": 12,
   "metadata": {},
   "outputs": [],
   "source": [
    "for dtemp1 in all_df:\n",
    "    start = time.perf_counter()\n",
    "    dtemp2 = dtemp1.sort_values(['Date','Amount'],ascending=[True,False])\n",
    "    end = time.perf_counter() - start\n",
    "    nrows = str(int(dtemp1.shape[0]/1000000))\n",
    "    all_sla[n_task][nrows]=end\n",
    "\n",
    "    del dtemp1\n",
    "    del dtemp2\n",
    "    gc.collect()\n",
    "    time.sleep(1)\n"
   ]
  },
  {
   "cell_type": "code",
   "execution_count": 13,
   "metadata": {},
   "outputs": [
    {
     "data": {
      "text/plain": [
       "{'3': 0.63470099999995,\n",
       " '9': 2.022421900000154,\n",
       " '19': 4.136806799999931,\n",
       " '34': 10.888667199999873,\n",
       " '45': 16.219327799999974}"
      ]
     },
     "execution_count": 13,
     "metadata": {},
     "output_type": "execute_result"
    }
   ],
   "source": [
    "all_sla[n_task]"
   ]
  },
  {
   "cell_type": "code",
   "execution_count": null,
   "metadata": {},
   "outputs": [],
   "source": []
  },
  {
   "attachments": {},
   "cell_type": "markdown",
   "metadata": {},
   "source": [
    "## Task4 - Filtering"
   ]
  },
  {
   "cell_type": "code",
   "execution_count": 14,
   "metadata": {},
   "outputs": [],
   "source": [
    "n_task = 'task4'\n",
    "all_sla[n_task] = {}"
   ]
  },
  {
   "cell_type": "code",
   "execution_count": 15,
   "metadata": {},
   "outputs": [],
   "source": [
    "# dtemp1 = all_df[0]\n",
    "filt1 = ['Shipped - Delivered to Buyer', 'Cancelled']\n",
    "for dtemp1 in all_df:\n",
    "    start = time.perf_counter()\n",
    "    dtemp2 = dtemp1[(dtemp1['Amount']>300) & (~dtemp1['Status'].isin(filt1))]\n",
    "    end = time.perf_counter() - start\n",
    "    nrows = str(int(dtemp1.shape[0]/1000000))\n",
    "    all_sla[n_task][nrows]=end\n",
    "\n",
    "    del dtemp1\n",
    "    del dtemp2\n",
    "    gc.collect()\n",
    "    time.sleep(1)\n"
   ]
  },
  {
   "cell_type": "code",
   "execution_count": 16,
   "metadata": {},
   "outputs": [
    {
     "data": {
      "text/plain": [
       "{'3': 0.21421140000006744,\n",
       " '9': 0.5953160999999909,\n",
       " '19': 1.2111443000001145,\n",
       " '34': 2.2449423999999,\n",
       " '45': 2.9474488999999267}"
      ]
     },
     "execution_count": 16,
     "metadata": {},
     "output_type": "execute_result"
    }
   ],
   "source": [
    "all_sla[n_task]"
   ]
  },
  {
   "cell_type": "code",
   "execution_count": null,
   "metadata": {},
   "outputs": [],
   "source": []
  },
  {
   "attachments": {},
   "cell_type": "markdown",
   "metadata": {},
   "source": [
    "## Task5 - Merging"
   ]
  },
  {
   "cell_type": "code",
   "execution_count": 35,
   "metadata": {},
   "outputs": [],
   "source": [
    "n_task = 'task5'\n",
    "all_sla[n_task] = {}"
   ]
  },
  {
   "cell_type": "code",
   "execution_count": 36,
   "metadata": {},
   "outputs": [],
   "source": [
    "for dtemp1 in all_df:\n",
    "    start = time.perf_counter()\n",
    "    dtemp2 = pd.merge(dtemp1,df_right,on=['Date','ship-service-level'],how='left')\n",
    "    end = time.perf_counter() - start\n",
    "    nrows = str(int(dtemp1.shape[0]/1000000))\n",
    "    all_sla[n_task][nrows]=end\n",
    "\n",
    "    del dtemp1\n",
    "    del dtemp2\n",
    "    gc.collect()\n",
    "    time.sleep(1)"
   ]
  },
  {
   "cell_type": "code",
   "execution_count": 37,
   "metadata": {},
   "outputs": [
    {
     "data": {
      "text/plain": [
       "{'3': 0.5124172000000726,\n",
       " '9': 1.4778619999997318,\n",
       " '19': 2.9784222000002956,\n",
       " '34': 5.352248900000177,\n",
       " '45': 7.045791199999712}"
      ]
     },
     "execution_count": 37,
     "metadata": {},
     "output_type": "execute_result"
    }
   ],
   "source": [
    "all_sla[n_task]"
   ]
  },
  {
   "cell_type": "code",
   "execution_count": null,
   "metadata": {},
   "outputs": [],
   "source": []
  },
  {
   "attachments": {},
   "cell_type": "markdown",
   "metadata": {},
   "source": [
    "## Task6 - udf apply"
   ]
  },
  {
   "cell_type": "code",
   "execution_count": 38,
   "metadata": {},
   "outputs": [],
   "source": [
    "n_task = 'task6'\n",
    "all_sla[n_task] = {}"
   ]
  },
  {
   "cell_type": "code",
   "execution_count": 39,
   "metadata": {},
   "outputs": [],
   "source": [
    "def fun(x):\n",
    "    x0 = x + 1\n",
    "    for i in range(25):\n",
    "        if x0<800:\n",
    "            x0 += i\n",
    "            x0 = (x0/3.0)*2.5\n",
    "            x0 = x0*1.2\n",
    "        else:\n",
    "            x0 += i/2.0\n",
    "            x0 = (x0/4.0)*3.8\n",
    "\n",
    "    return x0"
   ]
  },
  {
   "cell_type": "code",
   "execution_count": 40,
   "metadata": {},
   "outputs": [],
   "source": [
    "# dtemp1=all_df[0]\n",
    "# dtemp1['Amount2'] = dtemp1['Amount'].apply(fun)\n",
    "for dtemp1 in all_df:\n",
    "    start = time.perf_counter()\n",
    "    dtemp1['Amount2'] = dtemp1['Amount'].apply(fun)\n",
    "    end = time.perf_counter() - start\n",
    "    nrows = str(int(dtemp1.shape[0]/1000000))\n",
    "    all_sla[n_task][nrows]=end\n",
    "    \n",
    "    del dtemp1\n",
    "    gc.collect()\n",
    "    time.sleep(1)"
   ]
  },
  {
   "cell_type": "code",
   "execution_count": 41,
   "metadata": {},
   "outputs": [
    {
     "data": {
      "text/plain": [
       "{'3': 15.072074999999586,\n",
       " '9': 43.90379790000043,\n",
       " '19': 86.94100830000025,\n",
       " '34': 156.61809700000003,\n",
       " '45': 202.96429179999996}"
      ]
     },
     "execution_count": 41,
     "metadata": {},
     "output_type": "execute_result"
    }
   ],
   "source": [
    "all_sla[n_task]"
   ]
  },
  {
   "cell_type": "code",
   "execution_count": null,
   "metadata": {},
   "outputs": [],
   "source": []
  },
  {
   "attachments": {},
   "cell_type": "markdown",
   "metadata": {},
   "source": [
    "## Task7 - aggregation"
   ]
  },
  {
   "cell_type": "code",
   "execution_count": 42,
   "metadata": {},
   "outputs": [],
   "source": [
    "n_task = 'task7'\n",
    "all_sla[n_task] = {}"
   ]
  },
  {
   "cell_type": "code",
   "execution_count": 43,
   "metadata": {},
   "outputs": [],
   "source": [
    "def p25(x):\n",
    "    return np.percentile(x,25)\n",
    "\n",
    "def p75(x):\n",
    "    return np.percentile(x,75)"
   ]
  },
  {
   "cell_type": "code",
   "execution_count": 44,
   "metadata": {},
   "outputs": [],
   "source": [
    "# dtemp1=all_df[0]\n",
    "for dtemp1 in all_df:\n",
    "    start = time.perf_counter()\n",
    "    dtemp2 = dtemp1.groupby(['Date','Status']).agg({'Amount':[np.mean, np.size, p25, p75]})\n",
    "    end = time.perf_counter() - start\n",
    "    nrows = str(int(dtemp1.shape[0]/1000000))\n",
    "    all_sla[n_task][nrows]=end\n",
    "\n",
    "    del dtemp1\n",
    "    del dtemp2\n",
    "    gc.collect()\n",
    "    time.sleep(1)"
   ]
  },
  {
   "cell_type": "code",
   "execution_count": 45,
   "metadata": {},
   "outputs": [
    {
     "data": {
      "text/plain": [
       "{'3': 0.787891700000273,\n",
       " '9': 2.2168736999997236,\n",
       " '19': 4.148283800000172,\n",
       " '34': 7.475733299999774,\n",
       " '45': 9.774048400000083}"
      ]
     },
     "execution_count": 45,
     "metadata": {},
     "output_type": "execute_result"
    }
   ],
   "source": [
    "all_sla[n_task]"
   ]
  },
  {
   "cell_type": "code",
   "execution_count": null,
   "metadata": {},
   "outputs": [],
   "source": []
  },
  {
   "attachments": {},
   "cell_type": "markdown",
   "metadata": {},
   "source": [
    "## Save results"
   ]
  },
  {
   "cell_type": "code",
   "execution_count": 46,
   "metadata": {},
   "outputs": [
    {
     "data": {
      "text/plain": [
       "['../output/pandas-sla.pkl']"
      ]
     },
     "execution_count": 46,
     "metadata": {},
     "output_type": "execute_result"
    }
   ],
   "source": [
    "joblib.dump(all_sla,PATH_OUTPUT+SLA_NAME)"
   ]
  },
  {
   "cell_type": "code",
   "execution_count": 47,
   "metadata": {},
   "outputs": [
    {
     "data": {
      "text/plain": [
       "{'task1': {'csv': {'0': 0.2829878000000008,\n",
       "   '1': 2.218104699999998,\n",
       "   '3': 4.497733400000001,\n",
       "   '9': 10.768187100000006,\n",
       "   '19': 21.651349699999997,\n",
       "   '34': 40.695483800000034,\n",
       "   '45': 50.86708269999997,\n",
       "   '58': 66.61110070000007,\n",
       "   '71': 85.8427071000001},\n",
       "  'prq': {'0': 0.1353975000000105,\n",
       "   '1': 0.7144555999999938,\n",
       "   '3': 1.2158343000000116,\n",
       "   '9': 4.565950799999996,\n",
       "   '19': 7.757134000000008,\n",
       "   '34': 13.594654099999957,\n",
       "   '45': 18.150944200000026,\n",
       "   '58': 22.409480099999996,\n",
       "   '71': 28.027638700000125}},\n",
       " 'task2': {'csv': {'0': 0.48640100000000075,\n",
       "   '1': 4.362415499999997,\n",
       "   '3': 8.332460199999986,\n",
       "   '9': 24.607668099999984,\n",
       "   '19': 49.68972739999998,\n",
       "   '34': 86.75615580000004,\n",
       "   '45': 111.79567409999993,\n",
       "   '58': 145.78824739999993,\n",
       "   '71': 183.58592249999992},\n",
       "  'prq': {'0': 0.1621298999999965,\n",
       "   '1': 1.707086600000011,\n",
       "   '3': 2.352528299999989,\n",
       "   '9': 6.430279799999994,\n",
       "   '19': 12.849858099999949,\n",
       "   '34': 23.022432500000036,\n",
       "   '45': 30.084140899999966,\n",
       "   '58': 38.279359399999976,\n",
       "   '71': 47.82304360000012}},\n",
       " 'task3': {'3': 0.63470099999995,\n",
       "  '9': 2.022421900000154,\n",
       "  '19': 4.136806799999931,\n",
       "  '34': 10.888667199999873,\n",
       "  '45': 16.219327799999974},\n",
       " 'task4': {'3': 0.21421140000006744,\n",
       "  '9': 0.5953160999999909,\n",
       "  '19': 1.2111443000001145,\n",
       "  '34': 2.2449423999999,\n",
       "  '45': 2.9474488999999267},\n",
       " 'task5': {'3': 0.5124172000000726,\n",
       "  '9': 1.4778619999997318,\n",
       "  '19': 2.9784222000002956,\n",
       "  '34': 5.352248900000177,\n",
       "  '45': 7.045791199999712},\n",
       " 'task6': {'3': 15.072074999999586,\n",
       "  '9': 43.90379790000043,\n",
       "  '19': 86.94100830000025,\n",
       "  '34': 156.61809700000003,\n",
       "  '45': 202.96429179999996},\n",
       " 'task7': {'3': 0.787891700000273,\n",
       "  '9': 2.2168736999997236,\n",
       "  '19': 4.148283800000172,\n",
       "  '34': 7.475733299999774,\n",
       "  '45': 9.774048400000083}}"
      ]
     },
     "execution_count": 47,
     "metadata": {},
     "output_type": "execute_result"
    }
   ],
   "source": [
    "all_sla"
   ]
  },
  {
   "cell_type": "code",
   "execution_count": 52,
   "metadata": {},
   "outputs": [],
   "source": [
    "# all_sla['task7']"
   ]
  },
  {
   "cell_type": "code",
   "execution_count": null,
   "metadata": {},
   "outputs": [],
   "source": []
  }
 ],
 "metadata": {
  "kernelspec": {
   "display_name": "dfs",
   "language": "python",
   "name": "dfs"
  },
  "language_info": {
   "codemirror_mode": {
    "name": "ipython",
    "version": 3
   },
   "file_extension": ".py",
   "mimetype": "text/x-python",
   "name": "python",
   "nbconvert_exporter": "python",
   "pygments_lexer": "ipython3",
   "version": "3.8.10"
  },
  "orig_nbformat": 4
 },
 "nbformat": 4,
 "nbformat_minor": 2
}
