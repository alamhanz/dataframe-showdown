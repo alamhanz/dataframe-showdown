{
 "cells": [
  {
   "cell_type": "code",
   "execution_count": 1,
   "metadata": {},
   "outputs": [],
   "source": [
    "import vaex as vx\n",
    "import gc\n",
    "import os"
   ]
  },
  {
   "cell_type": "code",
   "execution_count": 2,
   "metadata": {},
   "outputs": [],
   "source": [
    "PATH_DATA = '../../data-testing/'\n",
    "BASE_DATA = PATH_DATA + 'base_data.csv'"
   ]
  },
  {
   "cell_type": "code",
   "execution_count": 3,
   "metadata": {},
   "outputs": [],
   "source": [
    "df_base = vx.open(BASE_DATA)\n",
    "df_base = df_base[['Order ID','Date','Status','Amount','ship-service-level']]\n",
    "df_base['Amount'] = df_base['Amount'].fillna(0.1)"
   ]
  },
  {
   "cell_type": "code",
   "execution_count": 4,
   "metadata": {},
   "outputs": [],
   "source": [
    "# df_base[df_base['Order ID']=='408-9163411-1046704']['Amount']"
   ]
  },
  {
   "cell_type": "code",
   "execution_count": 5,
   "metadata": {},
   "outputs": [
    {
     "data": {
      "text/html": [
       "<table>\n",
       "<thead>\n",
       "<tr><th>#                            </th><th>Order ID           </th><th>Date    </th><th>Status                      </th><th style=\"text-align: right;\">  Amount</th><th>ship-service-level  </th></tr>\n",
       "</thead>\n",
       "<tbody>\n",
       "<tr><td><i style='opacity: 0.6'>0</i></td><td>407-5109101-5489948</td><td>05-02-22</td><td>Shipped                     </td><td style=\"text-align: right;\">     399</td><td>Expedited           </td></tr>\n",
       "<tr><td><i style='opacity: 0.6'>1</i></td><td>403-2206763-8769959</td><td>04-28-22</td><td>Shipped                     </td><td style=\"text-align: right;\">     521</td><td>Expedited           </td></tr>\n",
       "<tr><td><i style='opacity: 0.6'>2</i></td><td>404-3240439-8999561</td><td>06-07-22</td><td>Shipped                     </td><td style=\"text-align: right;\">     496</td><td>Expedited           </td></tr>\n",
       "<tr><td><i style='opacity: 0.6'>3</i></td><td>171-6409075-6722709</td><td>05-19-22</td><td>Shipped - Returned to Seller</td><td style=\"text-align: right;\">     399</td><td>Standard            </td></tr>\n",
       "<tr><td><i style='opacity: 0.6'>4</i></td><td>408-1881585-8917959</td><td>06-17-22</td><td>Shipped                     </td><td style=\"text-align: right;\">     635</td><td>Expedited           </td></tr>\n",
       "<tr><td><i style='opacity: 0.6'>5</i></td><td>407-6606419-8324316</td><td>06-01-22</td><td>Shipped - Delivered to Buyer</td><td style=\"text-align: right;\">     625</td><td>Standard            </td></tr>\n",
       "<tr><td><i style='opacity: 0.6'>6</i></td><td>408-2174671-7617136</td><td>06-05-22</td><td>Shipped                     </td><td style=\"text-align: right;\">       0</td><td>Standard            </td></tr>\n",
       "<tr><td><i style='opacity: 0.6'>7</i></td><td>171-1142809-5672369</td><td>05-29-22</td><td>Shipped                     </td><td style=\"text-align: right;\">     612</td><td>Expedited           </td></tr>\n",
       "</tbody>\n",
       "</table>"
      ],
      "text/plain": [
       "  #  Order ID             Date      Status                          Amount  ship-service-level\n",
       "  0  407-5109101-5489948  05-02-22  Shipped                            399  Expedited\n",
       "  1  403-2206763-8769959  04-28-22  Shipped                            521  Expedited\n",
       "  2  404-3240439-8999561  06-07-22  Shipped                            496  Expedited\n",
       "  3  171-6409075-6722709  05-19-22  Shipped - Returned to Seller       399  Standard\n",
       "  4  408-1881585-8917959  06-17-22  Shipped                            635  Expedited\n",
       "  5  407-6606419-8324316  06-01-22  Shipped - Delivered to Buyer       625  Standard\n",
       "  6  408-2174671-7617136  06-05-22  Shipped                              0  Standard\n",
       "  7  171-1142809-5672369  05-29-22  Shipped                            612  Expedited"
      ]
     },
     "execution_count": 5,
     "metadata": {},
     "output_type": "execute_result"
    }
   ],
   "source": [
    "df_base.sample(8)"
   ]
  },
  {
   "cell_type": "code",
   "execution_count": null,
   "metadata": {},
   "outputs": [
    {
     "name": "stdout",
     "output_type": "stream",
     "text": [
      "1357\n",
      "175019075\n"
     ]
    }
   ],
   "source": [
    "# n_df = [int(i/0.129)+1 for i in (0.12,1,5,10,25,50,75,100,130,175)]\n",
    "n_df = [int(i/0.129)+1 for i in (175,)]\n",
    "\n",
    "# n_df = [int(i/0.129)+1 for i in (50,75,100,130,175)]\n",
    "\n",
    "k = 9\n",
    "for n in n_df:\n",
    "    print(n)\n",
    "    list_df_temp = [df_base]*n\n",
    "    df_temp = vx.concat(list_df_temp)\n",
    "    print(df_temp.shape[0])\n",
    "    df_temp.export(PATH_DATA+'data_{}.csv'.format(k),index=False)\n",
    "    df_temp.export(PATH_DATA+'data_{}.parquet'.format(k))\n",
    "\n",
    "    del list_df_temp\n",
    "    del df_temp\n",
    "    gc.collect()\n",
    "    k+=1\n"
   ]
  },
  {
   "cell_type": "code",
   "execution_count": null,
   "metadata": {},
   "outputs": [],
   "source": []
  }
 ],
 "metadata": {
  "environment": {
   "kernel": "python3",
   "name": "common-cpu.m108",
   "type": "gcloud",
   "uri": "gcr.io/deeplearning-platform-release/base-cpu:m108"
  },
  "kernelspec": {
   "display_name": "Python 3",
   "language": "python",
   "name": "python3"
  },
  "language_info": {
   "codemirror_mode": {
    "name": "ipython",
    "version": 3
   },
   "file_extension": ".py",
   "mimetype": "text/x-python",
   "name": "python",
   "nbconvert_exporter": "python",
   "pygments_lexer": "ipython3",
   "version": "3.10.10"
  }
 },
 "nbformat": 4,
 "nbformat_minor": 4
}
