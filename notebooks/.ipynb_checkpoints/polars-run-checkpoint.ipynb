{
 "cells": [
  {
   "cell_type": "markdown",
   "metadata": {},
   "source": [
    "# Polars Run"
   ]
  },
  {
   "cell_type": "code",
   "execution_count": 1,
   "metadata": {},
   "outputs": [],
   "source": [
    "import os\n",
    "import polars as pl\n",
    "import time\n",
    "import numpy as np\n",
    "import shutil\n",
    "import gc\n",
    "import joblib\n",
    "import psutil"
   ]
  },
  {
   "cell_type": "code",
   "execution_count": 2,
   "metadata": {},
   "outputs": [],
   "source": [
    "PATH_DATA = '../../data-testing/'\n",
    "# PATH_DATA = 'O:/df-showdown-data/'\n",
    "TEMP_PATH = PATH_DATA+'temp/'\n",
    "PATH_OUTPUT = '../output/'\n",
    "\n",
    "SLA_NAME = 'polars-sla.pkl'\n",
    "MEM_NAME = 'polars-mem.pkl'\n"
   ]
  },
  {
   "cell_type": "code",
   "execution_count": 3,
   "metadata": {},
   "outputs": [],
   "source": [
    "all_sla = {}\n",
    "all_memory = {}"
   ]
  },
  {
   "cell_type": "code",
   "execution_count": 4,
   "metadata": {},
   "outputs": [],
   "source": [
    "def get_memory():\n",
    "    est_memory = psutil.virtual_memory()[3]/1000000000\n",
    "    return est_memory"
   ]
  },
  {
   "cell_type": "code",
   "execution_count": null,
   "metadata": {},
   "outputs": [],
   "source": []
  },
  {
   "cell_type": "markdown",
   "metadata": {},
   "source": [
    "##     Task1 & Task2- I/O"
   ]
  },
  {
   "cell_type": "code",
   "execution_count": 5,
   "metadata": {},
   "outputs": [],
   "source": [
    "all_sla['task1'] = {}\n",
    "all_sla['task1']['csv'] = {}\n",
    "all_sla['task1']['prq'] = {}\n",
    "\n",
    "all_sla['task2'] = {}\n",
    "all_sla['task2']['csv'] = {}\n",
    "all_sla['task2']['prq'] = {}\n",
    "\n",
    "\n",
    "\n",
    "all_memory['task1'] = {}\n",
    "all_memory['task1']['csv'] = {}\n",
    "all_memory['task1']['prq'] = {}\n",
    "\n",
    "all_memory['task2'] = {}\n",
    "all_memory['task2']['csv'] = {}\n",
    "all_memory['task2']['prq'] = {}\n"
   ]
  },
  {
   "cell_type": "code",
   "execution_count": 6,
   "metadata": {},
   "outputs": [
    {
     "name": "stdout",
     "output_type": "stream",
     "text": [
      "0\n",
      "1\n",
      "2\n",
      "3\n",
      "4\n",
      "5\n",
      "6\n",
      "7\n",
      "8\n",
      "9\n"
     ]
    }
   ],
   "source": [
    "for i in range(10):\n",
    "    print(i)\n",
    "    if i<=5:\n",
    "        fn = 'data_{}.csv'.format(i)\n",
    "        start = time.perf_counter()\n",
    "        start_mem = get_memory()\n",
    "        dtemp1 = pl.read_csv(PATH_DATA+fn)\n",
    "        end_mem = get_memory() - start_mem\n",
    "        end = time.perf_counter() - start\n",
    "        nrows = str(int(dtemp1.shape[0]/1000000))\n",
    "        all_sla['task1']['csv'][nrows]=end\n",
    "        all_memory['task1']['csv'][nrows]=end_mem\n",
    "\n",
    "        start = time.perf_counter()\n",
    "        start_mem = get_memory()\n",
    "        dtemp1.write_csv(TEMP_PATH + 'temp.csv')\n",
    "        end_mem = get_memory() - start_mem\n",
    "        end = time.perf_counter() - start\n",
    "        all_sla['task2']['csv'][nrows]=end\n",
    "        all_memory['task2']['csv'][nrows]=end_mem\n",
    "\n",
    "        del dtemp1\n",
    "        time.sleep(3)\n",
    "        gc.collect()\n",
    "        os.remove(TEMP_PATH + 'temp.csv')\n",
    "        time.sleep(2)\n",
    "\n",
    "    fn = 'data_{}.parquet'.format(i)\n",
    "    start = time.perf_counter()\n",
    "    start_mem = get_memory()\n",
    "    dtemp1 = pl.read_parquet(PATH_DATA+fn)\n",
    "    end_mem = get_memory() - start_mem\n",
    "    end = time.perf_counter() - start\n",
    "    nrows = str(int(dtemp1.shape[0]/1000000))\n",
    "    all_sla['task1']['prq'][nrows]=end\n",
    "    all_memory['task1']['prq'][nrows]=end_mem\n",
    "    \n",
    "    start = time.perf_counter()\n",
    "    start_mem = get_memory()\n",
    "    dtemp1.write_parquet(TEMP_PATH + 'temp.parquet')\n",
    "    end_mem = get_memory() - start_mem\n",
    "    end = time.perf_counter() - start\n",
    "    all_sla['task2']['prq'][nrows]=end\n",
    "    all_memory['task2']['prq'][nrows]=end_mem\n",
    "\n",
    "    del dtemp1\n",
    "    time.sleep(3)\n",
    "    gc.collect()\n",
    "    os.remove(TEMP_PATH + 'temp.parquet')"
   ]
  },
  {
   "cell_type": "code",
   "execution_count": 7,
   "metadata": {},
   "outputs": [
    {
     "data": {
      "text/plain": [
       "{'task1': {'csv': {'0': 0.5174379829999793,\n",
       "   '1': 1.0287206579999975,\n",
       "   '5': 8.353650177999953,\n",
       "   '10': 18.56181711800002,\n",
       "   '25': 48.12515998999993,\n",
       "   '50': 93.19571794699993},\n",
       "  'prq': {'0': 0.11004566299999397,\n",
       "   '1': 0.23577853400001914,\n",
       "   '5': 0.9045548869999607,\n",
       "   '10': 2.5452655629999867,\n",
       "   '25': 10.024072814000078,\n",
       "   '50': 24.843873065000025,\n",
       "   '75': 36.47759927900006,\n",
       "   '100': 52.309337190000065,\n",
       "   '130': 66.07100678400002,\n",
       "   '175': 88.44021681899994}},\n",
       " 'task2': {'csv': {'0': 0.08974327599997878,\n",
       "   '1': 0.2194527070000163,\n",
       "   '5': 1.022887714000035,\n",
       "   '10': 2.1083958229999666,\n",
       "   '25': 5.191424362000021,\n",
       "   '50': 10.526412858000072},\n",
       "  'prq': {'0': 0.07736251599999378,\n",
       "   '1': 0.4314268090000155,\n",
       "   '5': 2.082639696000001,\n",
       "   '10': 4.156202328999996,\n",
       "   '25': 10.236474274999978,\n",
       "   '50': 20.076349749999963,\n",
       "   '75': 30.17169005900007,\n",
       "   '100': 40.69425692200002,\n",
       "   '130': 53.48091021699997,\n",
       "   '175': 71.11673350299998}}}"
      ]
     },
     "execution_count": 7,
     "metadata": {},
     "output_type": "execute_result"
    }
   ],
   "source": [
    "all_sla"
   ]
  },
  {
   "cell_type": "code",
   "execution_count": 8,
   "metadata": {},
   "outputs": [
    {
     "data": {
      "text/plain": [
       "{'task1': {'csv': {'0': 0.09564979200000001,\n",
       "   '1': 0.253157376,\n",
       "   '5': 0.9191956480000001,\n",
       "   '10': 0.9448488960000001,\n",
       "   '25': 2.318864384,\n",
       "   '50': 4.652650496},\n",
       "  'prq': {'0': 0.006336511999999961,\n",
       "   '1': 0.09040691200000017,\n",
       "   '5': 0.492875776,\n",
       "   '10': 1.008877568,\n",
       "   '25': 2.480144384,\n",
       "   '50': 4.888580096,\n",
       "   '75': 7.281713152,\n",
       "   '100': 9.740296191999999,\n",
       "   '130': 12.637188096,\n",
       "   '175': 17.011044352}},\n",
       " 'task2': {'csv': {'0': 0.07220019199999994,\n",
       "   '1': 0.016351232000000104,\n",
       "   '5': -0.004100096000000164,\n",
       "   '10': -0.0010035200000002575,\n",
       "   '25': -0.04076748799999974,\n",
       "   '50': -0.025079808000000092},\n",
       "  'prq': {'0': 0.005218304000000007,\n",
       "   '1': 0.0002785279999999446,\n",
       "   '5': -0.014876671999999758,\n",
       "   '10': 0.021901312000000228,\n",
       "   '25': -0.00437043199999998,\n",
       "   '50': 0.029171712000000127,\n",
       "   '75': 0.015077376000000697,\n",
       "   '100': -0.010686463999999063,\n",
       "   '130': 0.017932288000000796,\n",
       "   '175': 0.013012992000000168}}}"
      ]
     },
     "execution_count": 8,
     "metadata": {},
     "output_type": "execute_result"
    }
   ],
   "source": [
    "all_memory"
   ]
  },
  {
   "cell_type": "code",
   "execution_count": 9,
   "metadata": {},
   "outputs": [],
   "source": [
    "# del dtemp1\n",
    "# gc.collect()"
   ]
  },
  {
   "cell_type": "code",
   "execution_count": null,
   "metadata": {},
   "outputs": [],
   "source": []
  },
  {
   "cell_type": "markdown",
   "metadata": {},
   "source": [
    "## Get Data for other task"
   ]
  },
  {
   "cell_type": "code",
   "execution_count": 10,
   "metadata": {},
   "outputs": [],
   "source": [
    "all_df = [pl.read_parquet(PATH_DATA+'data_{}.parquet'.format(i)) for i in [4,5,6,7,8,9]]\n",
    "df_right = pl.read_parquet(PATH_DATA+'data_to_join.parquet')\n",
    "time.sleep(5)"
   ]
  },
  {
   "cell_type": "code",
   "execution_count": 11,
   "metadata": {},
   "outputs": [
    {
     "data": {
      "text/plain": [
       "6"
      ]
     },
     "execution_count": 11,
     "metadata": {},
     "output_type": "execute_result"
    }
   ],
   "source": [
    "len(all_df)"
   ]
  },
  {
   "cell_type": "code",
   "execution_count": null,
   "metadata": {},
   "outputs": [],
   "source": []
  },
  {
   "cell_type": "markdown",
   "metadata": {},
   "source": [
    "## Task3 - Sorting"
   ]
  },
  {
   "cell_type": "code",
   "execution_count": 12,
   "metadata": {},
   "outputs": [],
   "source": [
    "n_task = 'task3'\n",
    "all_sla[n_task] = {}\n",
    "all_memory[n_task] = {}"
   ]
  },
  {
   "cell_type": "code",
   "execution_count": 13,
   "metadata": {},
   "outputs": [
    {
     "name": "stdout",
     "output_type": "stream",
     "text": [
      "25.02\n",
      "50.04\n",
      "75.06\n",
      "100.08\n",
      "130.01\n",
      "175.02\n"
     ]
    }
   ],
   "source": [
    "for dtemp1 in all_df:\n",
    "    print(round(len(dtemp1)/1000000,2))\n",
    "    start = time.perf_counter()\n",
    "    start_mem = get_memory()\n",
    "    # dtemp2 = dtemp1.sort(['Date','Amount'],ascending=[True,False])\n",
    "    dtemp2 = dtemp1.with_columns(\n",
    "            pl.col('Amount').sort(descending=True),\n",
    "            pl.col('Date').sort(descending=False),\n",
    "    )\n",
    "    end_mem = get_memory() - start_mem\n",
    "    end = time.perf_counter() - start\n",
    "    nrows = str(int(dtemp1.shape[0]/1000000))\n",
    "    \n",
    "    all_sla[n_task][nrows]=end\n",
    "    all_memory[n_task][nrows]=end_mem\n",
    "\n",
    "    del dtemp1\n",
    "    del dtemp2\n",
    "    time.sleep(4)\n",
    "    gc.collect()\n",
    "    time.sleep(4)\n",
    "    gc.collect()\n"
   ]
  },
  {
   "cell_type": "code",
   "execution_count": 14,
   "metadata": {},
   "outputs": [
    {
     "data": {
      "text/plain": [
       "{'25': 1.6373489180000433,\n",
       " '50': 2.6394489660001454,\n",
       " '75': 3.448619643000029,\n",
       " '100': 5.333744848999913,\n",
       " '130': 6.509788603000061,\n",
       " '175': 8.627366144999996}"
      ]
     },
     "execution_count": 14,
     "metadata": {},
     "output_type": "execute_result"
    }
   ],
   "source": [
    "all_sla[n_task]"
   ]
  },
  {
   "cell_type": "code",
   "execution_count": 15,
   "metadata": {},
   "outputs": [
    {
     "data": {
      "text/plain": [
       "{'25': 0.6095503359999981,\n",
       " '50': 1.2083773439999987,\n",
       " '75': 1.8188574719999977,\n",
       " '100': 2.4150712320000025,\n",
       " '130': 3.1399444479999943,\n",
       " '175': 4.219191295999998}"
      ]
     },
     "execution_count": 15,
     "metadata": {},
     "output_type": "execute_result"
    }
   ],
   "source": [
    "all_memory[n_task]"
   ]
  },
  {
   "cell_type": "code",
   "execution_count": null,
   "metadata": {},
   "outputs": [],
   "source": []
  },
  {
   "cell_type": "markdown",
   "metadata": {},
   "source": [
    "## Task4 - Filtering"
   ]
  },
  {
   "cell_type": "code",
   "execution_count": 16,
   "metadata": {},
   "outputs": [],
   "source": [
    "n_task = 'task4'\n",
    "all_sla[n_task] = {}\n",
    "all_memory[n_task] = {}"
   ]
  },
  {
   "cell_type": "code",
   "execution_count": 17,
   "metadata": {},
   "outputs": [
    {
     "name": "stdout",
     "output_type": "stream",
     "text": [
      "25.02\n",
      "50.04\n",
      "75.06\n",
      "100.08\n",
      "130.01\n",
      "175.02\n"
     ]
    }
   ],
   "source": [
    "# dtemp1 = all_df[0]\n",
    "filt1 = ['Shipped - Delivered to Buyer', 'Cancelled']\n",
    "for dtemp1 in all_df:\n",
    "    print(round(len(dtemp1)/1000000,2))\n",
    "    start = time.perf_counter()\n",
    "    start_mem = get_memory()\n",
    "    # dtemp2 = dtemp1[(dtemp1['Amount']>300) & (~dtemp1['Status'].isin(filt1))]\n",
    "    dtemp2 = (dtemp1\n",
    "                .filter((pl.col('Amount')>300) & (pl.col('Status').is_in(filt1)))\n",
    "              )\n",
    "    \n",
    "    end_mem = get_memory() - start_mem\n",
    "    end = time.perf_counter() - start\n",
    "    nrows = str(int(dtemp1.shape[0]/1000000))\n",
    "    \n",
    "    all_sla[n_task][nrows]=end\n",
    "    all_memory[n_task][nrows]=end_mem\n",
    "\n",
    "    del dtemp1\n",
    "    del dtemp2\n",
    "    time.sleep(4)\n",
    "    gc.collect()\n",
    "    time.sleep(4)\n",
    "    gc.collect()\n",
    "    \n"
   ]
  },
  {
   "cell_type": "code",
   "execution_count": 18,
   "metadata": {},
   "outputs": [
    {
     "data": {
      "text/plain": [
       "{'25': 1.7134923809999236,\n",
       " '50': 3.1687932539998656,\n",
       " '75': 4.987373164000019,\n",
       " '100': 6.581221803999824,\n",
       " '130': 8.756822353000189,\n",
       " '175': 11.856222816999889}"
      ]
     },
     "execution_count": 18,
     "metadata": {},
     "output_type": "execute_result"
    }
   ],
   "source": [
    "all_sla[n_task]"
   ]
  },
  {
   "cell_type": "code",
   "execution_count": 19,
   "metadata": {},
   "outputs": [
    {
     "data": {
      "text/plain": [
       "{'25': 0.8330649600000015,\n",
       " '50': 1.6174530559999951,\n",
       " '75': 2.2109388800000005,\n",
       " '100': 3.1828336640000003,\n",
       " '130': 4.0156446720000005,\n",
       " '175': 5.373886463999995}"
      ]
     },
     "execution_count": 19,
     "metadata": {},
     "output_type": "execute_result"
    }
   ],
   "source": [
    "all_memory[n_task]"
   ]
  },
  {
   "cell_type": "code",
   "execution_count": null,
   "metadata": {},
   "outputs": [],
   "source": []
  },
  {
   "cell_type": "markdown",
   "metadata": {},
   "source": [
    "## Task5 - Merging"
   ]
  },
  {
   "cell_type": "code",
   "execution_count": 20,
   "metadata": {},
   "outputs": [],
   "source": [
    "n_task = 'task5'\n",
    "all_sla[n_task] = {}\n",
    "all_memory[n_task] = {}"
   ]
  },
  {
   "cell_type": "code",
   "execution_count": 21,
   "metadata": {},
   "outputs": [],
   "source": [
    "df_right2 = (df_right.with_columns((pl.col('Date')+'_'+pl.col('ship-service-level')).alias('key_merge'))\n",
    "             .select('key_merge','amount_avg'))"
   ]
  },
  {
   "cell_type": "code",
   "execution_count": 22,
   "metadata": {},
   "outputs": [
    {
     "name": "stdout",
     "output_type": "stream",
     "text": [
      "25.02\n",
      "waiting\n",
      "start merge\n",
      "50.04\n",
      "waiting\n",
      "start merge\n",
      "75.06\n",
      "waiting\n",
      "start merge\n",
      "100.08\n",
      "waiting\n",
      "start merge\n",
      "130.01\n",
      "waiting\n",
      "start merge\n",
      "175.02\n",
      "waiting\n",
      "start merge\n"
     ]
    }
   ],
   "source": [
    "for dtemp1 in all_df:\n",
    "    time.sleep(5)\n",
    "    print(round(len(dtemp1)/1000000,2))\n",
    "    dtemp1 = dtemp1.with_columns((pl.col('Date')+'_'+pl.col('ship-service-level')).alias('key_merge'))\n",
    "    dtemp1.drop_in_place('Date')\n",
    "    dtemp1.drop_in_place('ship-service-level')\n",
    "\n",
    "    print('waiting')\n",
    "    time.sleep(7)\n",
    "    gc.collect()\n",
    "    time.sleep(4)\n",
    "    gc.collect()\n",
    "\n",
    "    print('start merge')\n",
    "    start = time.perf_counter()\n",
    "    start_mem = get_memory()\n",
    "    dtemp2 = dtemp1.join(df_right2,on='key_merge',how='left')\n",
    "    end_mem = get_memory() - start_mem\n",
    "    end = time.perf_counter() - start\n",
    "    nrows = str(int(dtemp1.shape[0]/1000000))\n",
    "\n",
    "    all_sla[n_task][nrows]=end\n",
    "    all_memory[n_task][nrows]=end_mem\n",
    "\n",
    "    del dtemp1\n",
    "    del dtemp2\n",
    "    time.sleep(4)\n",
    "    gc.collect()\n",
    "    time.sleep(4)\n",
    "    gc.collect()"
   ]
  },
  {
   "cell_type": "code",
   "execution_count": 23,
   "metadata": {},
   "outputs": [
    {
     "data": {
      "text/plain": [
       "{'25': 2.1502861619999294,\n",
       " '50': 3.857488590999992,\n",
       " '75': 4.723475724000082,\n",
       " '100': 5.516159078999863,\n",
       " '130': 8.403884096999946,\n",
       " '175': 12.421898867999971}"
      ]
     },
     "execution_count": 23,
     "metadata": {},
     "output_type": "execute_result"
    }
   ],
   "source": [
    "all_sla[n_task]"
   ]
  },
  {
   "cell_type": "code",
   "execution_count": 24,
   "metadata": {},
   "outputs": [
    {
     "data": {
      "text/plain": [
       "{'25': 1.5613992959999976,\n",
       " '50': 3.191955455999995,\n",
       " '75': 4.785971199999999,\n",
       " '100': 6.379667455999993,\n",
       " '130': 8.283312128000006,\n",
       " '175': 11.149336575999996}"
      ]
     },
     "execution_count": 24,
     "metadata": {},
     "output_type": "execute_result"
    }
   ],
   "source": [
    "all_memory[n_task]"
   ]
  },
  {
   "cell_type": "code",
   "execution_count": null,
   "metadata": {},
   "outputs": [],
   "source": []
  },
  {
   "cell_type": "markdown",
   "metadata": {},
   "source": [
    "## Task6 - udf apply"
   ]
  },
  {
   "cell_type": "code",
   "execution_count": 25,
   "metadata": {},
   "outputs": [],
   "source": [
    "n_task = 'task6'\n",
    "all_sla[n_task] = {}\n",
    "all_memory[n_task] = {}"
   ]
  },
  {
   "cell_type": "code",
   "execution_count": 8,
   "metadata": {},
   "outputs": [],
   "source": [
    "def fun(x):\n",
    "    x0 = x + 1\n",
    "    for i in range(25):\n",
    "        if x0<800:\n",
    "            x0 += i\n",
    "            x0 = (x0/3.0)*2.5\n",
    "            x0 = x0*1.2\n",
    "        else:\n",
    "            x0 += i/2.0\n",
    "            x0 = (x0/4.0)*3.8\n",
    "\n",
    "    return x0"
   ]
  },
  {
   "cell_type": "code",
   "execution_count": null,
   "metadata": {},
   "outputs": [],
   "source": []
  },
  {
   "cell_type": "code",
   "execution_count": 27,
   "metadata": {},
   "outputs": [
    {
     "name": "stdout",
     "output_type": "stream",
     "text": [
      "25.02\n"
     ]
    },
    {
     "ename": "TypeError",
     "evalue": "'DataFrame' object does not support 'Series' assignment by index. Use 'DataFrame.with_columns'",
     "output_type": "error",
     "traceback": [
      "\u001b[0;31m---------------------------------------------------------------------------\u001b[0m",
      "\u001b[0;31mTypeError\u001b[0m                                 Traceback (most recent call last)",
      "Cell \u001b[0;32mIn[27], line 7\u001b[0m\n\u001b[1;32m      5\u001b[0m start \u001b[38;5;241m=\u001b[39m time\u001b[38;5;241m.\u001b[39mperf_counter()\n\u001b[1;32m      6\u001b[0m start_mem \u001b[38;5;241m=\u001b[39m get_memory()\n\u001b[0;32m----> 7\u001b[0m \u001b[43mdtemp1\u001b[49m\u001b[43m[\u001b[49m\u001b[38;5;124;43m'\u001b[39;49m\u001b[38;5;124;43mAmount2\u001b[39;49m\u001b[38;5;124;43m'\u001b[39;49m\u001b[43m]\u001b[49m \u001b[38;5;241m=\u001b[39m dtemp1[\u001b[38;5;124m'\u001b[39m\u001b[38;5;124mAmount\u001b[39m\u001b[38;5;124m'\u001b[39m]\u001b[38;5;241m.\u001b[39mapply(fun)\n\u001b[1;32m      8\u001b[0m end_mem \u001b[38;5;241m=\u001b[39m get_memory() \u001b[38;5;241m-\u001b[39m start_mem\n\u001b[1;32m      9\u001b[0m end \u001b[38;5;241m=\u001b[39m time\u001b[38;5;241m.\u001b[39mperf_counter() \u001b[38;5;241m-\u001b[39m start\n",
      "File \u001b[0;32m/opt/conda/lib/python3.10/site-packages/polars/dataframe/frame.py:1672\u001b[0m, in \u001b[0;36mDataFrame.__setitem__\u001b[0;34m(self, key, value)\u001b[0m\n\u001b[1;32m   1665\u001b[0m \u001b[38;5;28;01mdef\u001b[39;00m \u001b[38;5;21m__setitem__\u001b[39m(\n\u001b[1;32m   1666\u001b[0m     \u001b[38;5;28mself\u001b[39m,\n\u001b[1;32m   1667\u001b[0m     key: \u001b[38;5;28mstr\u001b[39m \u001b[38;5;241m|\u001b[39m Sequence[\u001b[38;5;28mint\u001b[39m] \u001b[38;5;241m|\u001b[39m Sequence[\u001b[38;5;28mstr\u001b[39m] \u001b[38;5;241m|\u001b[39m \u001b[38;5;28mtuple\u001b[39m[Any, \u001b[38;5;28mstr\u001b[39m \u001b[38;5;241m|\u001b[39m \u001b[38;5;28mint\u001b[39m],\n\u001b[1;32m   1668\u001b[0m     value: Any,\n\u001b[1;32m   1669\u001b[0m ) \u001b[38;5;241m-\u001b[39m\u001b[38;5;241m>\u001b[39m \u001b[38;5;28;01mNone\u001b[39;00m:  \u001b[38;5;66;03m# pragma: no cover\u001b[39;00m\n\u001b[1;32m   1670\u001b[0m     \u001b[38;5;66;03m# df[\"foo\"] = series\u001b[39;00m\n\u001b[1;32m   1671\u001b[0m     \u001b[38;5;28;01mif\u001b[39;00m \u001b[38;5;28misinstance\u001b[39m(key, \u001b[38;5;28mstr\u001b[39m):\n\u001b[0;32m-> 1672\u001b[0m         \u001b[38;5;28;01mraise\u001b[39;00m \u001b[38;5;167;01mTypeError\u001b[39;00m(\n\u001b[1;32m   1673\u001b[0m             \u001b[38;5;124m\"\u001b[39m\u001b[38;5;124m'\u001b[39m\u001b[38;5;124mDataFrame\u001b[39m\u001b[38;5;124m'\u001b[39m\u001b[38;5;124m object does not support \u001b[39m\u001b[38;5;124m'\u001b[39m\u001b[38;5;124mSeries\u001b[39m\u001b[38;5;124m'\u001b[39m\u001b[38;5;124m assignment by index. \u001b[39m\u001b[38;5;124m\"\u001b[39m\n\u001b[1;32m   1674\u001b[0m             \u001b[38;5;124m\"\u001b[39m\u001b[38;5;124mUse \u001b[39m\u001b[38;5;124m'\u001b[39m\u001b[38;5;124mDataFrame.with_columns\u001b[39m\u001b[38;5;124m'\u001b[39m\u001b[38;5;124m\"\u001b[39m\n\u001b[1;32m   1675\u001b[0m         )\n\u001b[1;32m   1677\u001b[0m     \u001b[38;5;66;03m# df[[\"C\", \"D\"]]\u001b[39;00m\n\u001b[1;32m   1678\u001b[0m     \u001b[38;5;28;01melif\u001b[39;00m \u001b[38;5;28misinstance\u001b[39m(key, \u001b[38;5;28mlist\u001b[39m):\n\u001b[1;32m   1679\u001b[0m         \u001b[38;5;66;03m# TODO: Use python sequence constructors\u001b[39;00m\n",
      "\u001b[0;31mTypeError\u001b[0m: 'DataFrame' object does not support 'Series' assignment by index. Use 'DataFrame.with_columns'"
     ]
    }
   ],
   "source": [
    "# dtemp1=all_df[0]\n",
    "# dtemp1['Amount2'] = dtemp1['Amount'].apply(fun)\n",
    "for dtemp1 in all_df:\n",
    "    print(round(len(dtemp1)/1000000,2))\n",
    "    start = time.perf_counter()\n",
    "    start_mem = get_memory()\n",
    "    # dtemp1['Amount2'] = dtemp1['Amount'].apply(fun)\n",
    "    dtemp1 = dtemp1.with_columns(\n",
    "        pl.col('Amount').apply(fun).alias('Amount2')\n",
    "    )\n",
    "    \n",
    "    end_mem = get_memory() - start_mem\n",
    "    end = time.perf_counter() - start\n",
    "    nrows = str(int(dtemp1.shape[0]/1000000))\n",
    "    \n",
    "    all_sla[n_task][nrows]=end\n",
    "    all_memory[n_task][nrows]=end_mem\n",
    "    \n",
    "    del dtemp1\n",
    "    time.sleep(4)\n",
    "    gc.collect()\n",
    "    time.sleep(4)\n",
    "    gc.collect()"
   ]
  },
  {
   "cell_type": "code",
   "execution_count": null,
   "metadata": {},
   "outputs": [],
   "source": [
    "all_sla[n_task]"
   ]
  },
  {
   "cell_type": "code",
   "execution_count": null,
   "metadata": {},
   "outputs": [],
   "source": [
    "all_memory[n_task]"
   ]
  },
  {
   "cell_type": "code",
   "execution_count": null,
   "metadata": {},
   "outputs": [],
   "source": []
  },
  {
   "cell_type": "markdown",
   "metadata": {},
   "source": [
    "## Task7 - aggregation"
   ]
  },
  {
   "cell_type": "code",
   "execution_count": null,
   "metadata": {},
   "outputs": [],
   "source": [
    "n_task = 'task7'\n",
    "all_sla[n_task] = {}\n",
    "all_memory[n_task] = {}"
   ]
  },
  {
   "cell_type": "code",
   "execution_count": null,
   "metadata": {},
   "outputs": [],
   "source": [
    "def p25(x):\n",
    "    return np.percentile(x,25)\n",
    "\n",
    "def p75(x):\n",
    "    return np.percentile(x,75)"
   ]
  },
  {
   "cell_type": "code",
   "execution_count": null,
   "metadata": {},
   "outputs": [],
   "source": [
    "# dtemp1=all_df[0]\n",
    "for dtemp1 in all_df:\n",
    "    print(round(len(dtemp1)/1000000,2))\n",
    "    start = time.perf_counter()\n",
    "    start_mem = get_memory()\n",
    "    # dtemp2 = dtemp1.groupby(['Date','Status']).agg({'Amount':[np.mean, np.size, p25, p75]})\n",
    "    dtemp1 = dtemp1.groupby(['Date','Status']).agg([pl.col('Amount').mean().alias('amount_mean')])\n",
    "\n",
    "    end_mem = get_memory() - start_mem\n",
    "    end = time.perf_counter() - start\n",
    "    nrows = str(int(dtemp1.shape[0]/1000000))\n",
    "    \n",
    "    all_sla[n_task][nrows]=end\n",
    "    all_memory[n_task][nrows]=end_mem\n",
    "\n",
    "    del dtemp1\n",
    "    time.sleep(4)\n",
    "    gc.collect()\n",
    "    time.sleep(4)\n",
    "    gc.collect()"
   ]
  },
  {
   "cell_type": "code",
   "execution_count": null,
   "metadata": {},
   "outputs": [],
   "source": [
    "all_sla[n_task]"
   ]
  },
  {
   "cell_type": "code",
   "execution_count": null,
   "metadata": {},
   "outputs": [],
   "source": [
    "all_memory[n_task]"
   ]
  },
  {
   "cell_type": "code",
   "execution_count": null,
   "metadata": {},
   "outputs": [],
   "source": []
  },
  {
   "cell_type": "markdown",
   "metadata": {},
   "source": [
    "## Save results"
   ]
  },
  {
   "cell_type": "code",
   "execution_count": null,
   "metadata": {},
   "outputs": [],
   "source": [
    "joblib.dump(all_sla,PATH_OUTPUT+SLA_NAME)\n",
    "joblib.dump(all_memory,PATH_OUTPUT+MEM_NAME)"
   ]
  },
  {
   "cell_type": "code",
   "execution_count": null,
   "metadata": {},
   "outputs": [],
   "source": []
  }
 ],
 "metadata": {
  "environment": {
   "kernel": "python3",
   "name": "common-cpu.m108",
   "type": "gcloud",
   "uri": "gcr.io/deeplearning-platform-release/base-cpu:m108"
  },
  "kernelspec": {
   "display_name": "Python 3",
   "language": "python",
   "name": "python3"
  },
  "language_info": {
   "codemirror_mode": {
    "name": "ipython",
    "version": 3
   },
   "file_extension": ".py",
   "mimetype": "text/x-python",
   "name": "python",
   "nbconvert_exporter": "python",
   "pygments_lexer": "ipython3",
   "version": "3.10.10"
  }
 },
 "nbformat": 4,
 "nbformat_minor": 4
}
